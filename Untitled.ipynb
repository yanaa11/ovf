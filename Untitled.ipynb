{
 "cells": [
  {
   "cell_type": "code",
   "execution_count": 1,
   "metadata": {},
   "outputs": [],
   "source": [
    "from math import *\n",
    "import matplotlib.pyplot as plt\n",
    "import numpy as np\n",
    "\n",
    "@np.vectorize\n",
    "def f(x):\n",
    "    return sin(x)\n",
    "\n",
    "class ThreeDiag:\n",
    "    def __init__(self, lines):\n",
    "        self.a = []\n",
    "        self.b = []\n",
    "        self.c = []\n",
    "        for ta, tb, tc in lines:\n",
    "            self.a.append(ta)\n",
    "            self.b.append(tb)\n",
    "            self.c.append(tc)\n",
    "\n",
    "    def solve(self, d):\n",
    "        a = np.copy(self.a)\n",
    "        b = np.copy(self.b)\n",
    "        c = np.copy(self.c)\n",
    "        d = np.copy(d)\n",
    "\n",
    "        for i in range(1, len(a)):\n",
    "            k = a[i] / b[i-1]\n",
    "            b[i] -= k*c[i-1]\n",
    "            d[i] -= k*d[i-1]\n",
    "\n",
    "        d[-1] /= b[-1]\n",
    "        for i in reversed(range(0, len(a) - 1)):\n",
    "            d[i] = (d[i] - c[i]*d[i+1])/b[i]\n",
    "\n",
    "        return d\n",
    "\n",
    "\n",
    "def make_matrix(n, h):\n",
    "    \"\"\"\n",
    "    n is the number of segments\n",
    "    h is the length of each segment\n",
    "    \"\"\"\n",
    "    r = (1/h**2, -2/h**2, 1/h**2)\n",
    "\n",
    "    def gen():\n",
    "        yield 0, 1, 0\n",
    "        for i in range(n - 1):\n",
    "            yield r\n",
    "        yield 0, 1, 0\n",
    "\n",
    "    return ThreeDiag(gen())\n",
    "\n",
    "def make_d(xs, f, ya, yb):\n",
    "    return np.concatenate(([ya], f(xs[1:-1]), [yb]))\n",
    "\n",
    "# if __name__ == '__main__':\n",
    "#     n = 1000\n",
    "#     a = -pi\n",
    "#     b = pi\n",
    "#     xs, h = np.linspace(a, b, n, retstep=True)\n",
    "#     m = make_matrix(n-1, h)\n",
    "\n",
    "#     d1 = make_d(xs, f, 0, 0)\n",
    "#     d2 = make_d(xs, f, -10, 10)\n",
    "#     d3 = make_d(xs, f, 10, -10)\n",
    "#     d4 = make_d(xs, f, 11, -9)\n",
    "#     d5 = make_d(xs, f, 1, 1)\n",
    "\n",
    "#     y1 = m.solve(d1)\n",
    "#     y2 = m.solve(d2)\n",
    "#     y3 = m.solve(d3)\n",
    "#     y4 = m.solve(d4)\n",
    "#     y5 = m.solve(d5)\n",
    "\n",
    "#     plt.plot(xs, y1)\n",
    "#     plt.plot(xs, y2)\n",
    "#     plt.plot(xs, y3)\n",
    "#     plt.plot(xs, y4)\n",
    "#     plt.plot(xs, y5)\n",
    "#     plt.show()\n"
   ]
  },
  {
   "cell_type": "code",
   "execution_count": 2,
   "metadata": {},
   "outputs": [],
   "source": [
    "n = 1000\n",
    "a = -pi\n",
    "b = pi\n",
    "xs, h = np.linspace(a, b, n, retstep=True)\n",
    "m = make_matrix(n-1, h)"
   ]
  },
  {
   "cell_type": "code",
   "execution_count": 3,
   "metadata": {},
   "outputs": [],
   "source": [
    "d1 = make_d(xs, f, 0, 0)\n",
    "d2 = make_d(xs, f, -10, 10)\n",
    "d3 = make_d(xs, f, 10, -10)\n",
    "d4 = make_d(xs, f, 11, -9)\n",
    "d5 = make_d(xs, f, 1, 1)"
   ]
  },
  {
   "cell_type": "code",
   "execution_count": 4,
   "metadata": {},
   "outputs": [],
   "source": [
    "y1 = m.solve(d1)\n",
    "y2 = m.solve(d2)\n",
    "y3 = m.solve(d3)\n",
    "y4 = m.solve(d4)\n",
    "y5 = m.solve(d5)"
   ]
  },
  {
   "cell_type": "code",
   "execution_count": 5,
   "metadata": {},
   "outputs": [
    {
     "data": {
      "image/png": "[encoded data removed]",
      "text/plain": [
       "<Figure size 432x288 with 1 Axes>"
      ]
     },
     "metadata": {
      "needs_background": "light"
     },
     "output_type": "display_data"
    }
   ],
   "source": [
    "plt.plot(xs, y1)\n",
    "plt.plot(xs, y2)\n",
    "plt.plot(xs, y3)\n",
    "plt.plot(xs, y4)\n",
    "plt.plot(xs, y5)\n",
    "plt.show()"
   ]
  },
  {
   "cell_type": "code",
   "execution_count": null,
   "metadata": {},
   "outputs": [],
   "source": []
  }
 ],
 "metadata": {
  "kernelspec": {
   "display_name": "Python 3",
   "language": "python",
   "name": "python3"
  },
  "language_info": {
   "codemirror_mode": {
    "name": "ipython",
    "version": 3
   },
   "file_extension": ".py",
   "mimetype": "text/x-python",
   "name": "python",
   "nbconvert_exporter": "python",
   "pygments_lexer": "ipython3",
   "version": "3.8.5"
  }
 },
 "nbformat": 4,
 "nbformat_minor": 4
}
