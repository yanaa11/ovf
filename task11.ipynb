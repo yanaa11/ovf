{
 "cells": [
  {
   "cell_type": "markdown",
   "metadata": {},
   "source": [
    "# Задача 11\n",
    "\n",
    "Найти уровень энергии и волновую функцию $\\psi(x)$ основного состояния в потенциальной яме $U(x)$, решая конечномерный аналог спектральной задачи для одномерного стационарного уравнения Шрёдингера\n",
    "\n",
    "$$(-\\frac{1}{2}\\frac{\\partial^2}{\\partial x^2} + U(x) - E)\\psi(x, t) = 0, \\;\\; |\\psi(x)| \\rightarrow 0 \\; при \\; |x| \\rightarrow \\infty$$ \n",
    "\n",
    "Для поиска наименьшего собственного значения $\\hat H \\vec{\\psi} = E_0 \\vec{\\psi}$ трехдиагональной матрицы $\\hat H$ использовать метод обратных итераций.\n",
    "\n",
    "Проверить работу программы, сравнив с точным решением для $U(x) = \\frac{1}{2}x^2$"
   ]
  },
  {
   "cell_type": "markdown",
   "metadata": {},
   "source": [
    "## Решение: "
   ]
  },
  {
   "cell_type": "code",
   "execution_count": 1,
   "metadata": {},
   "outputs": [],
   "source": [
    "import math\n",
    "import numpy as np\n",
    "import scipy.linalg as sla\n",
    "import matplotlib.pyplot as plt"
   ]
  },
  {
   "cell_type": "markdown",
   "metadata": {},
   "source": [
    "### Аналитическое решение\n",
    "\n",
    "Уравнение  $\\hat H \\vec{\\psi} = E_0 \\vec{\\psi}$ - стационарное, значит и решение тоже.\n",
    "\n",
    "Потенциал осциллятора: \n",
    "\n",
    "$$U(x) = \\frac{m\\omega^2x^2}{2}, \\;\\; \\\\\n",
    "m = 1, \\; \\omega = 1, \\; \\hbar = 1$$\n",
    "\n",
    "Основное состояние: \n",
    "\n",
    "$$E_0 = \\frac{h\\omega}{2} = \\frac{1}{2}$$\n",
    "\n",
    "$$\\psi_0(x) = (\\frac{m\\omega}{\\pi \\hbar})^{1/4} \\exp{(-\\frac{m\\omega x^2}{2\\hbar})} = (\\frac{1}{\\pi})^{1/4}\\exp{(-\\frac{x^2}{2})}$$"
   ]
  },
  {
   "cell_type": "code",
   "execution_count": 2,
   "metadata": {},
   "outputs": [],
   "source": [
    "E0_sol = 1/2\n",
    "\n",
    "def psi0_analytical(x):\n",
    "    return (1/math.pi)**(1/4) * math.exp(-0.5*(x**2))"
   ]
  },
  {
   "cell_type": "code",
   "execution_count": 3,
   "metadata": {},
   "outputs": [],
   "source": [
    "x_start = -10\n",
    "x_end = 10\n",
    "N = 200\n",
    "h = (x_end - x_start)/N \n",
    "\n",
    "x_s_sol = []\n",
    "psi0_sol = []\n",
    "\n",
    "for i in range(N):\n",
    "    x_s_sol.append(x_start + i*h)\n",
    "    psi0_sol.append(psi0_analytical(x_s_sol[i]))\n",
    "    \n",
    "#нормировать на 1\n",
    "sol_norm = sla.norm(psi0_sol)\n",
    "psi0_sol = [psi0_sol[i]/sol_norm for i in range(len(psi0_sol))]"
   ]
  },
  {
   "cell_type": "code",
   "execution_count": 4,
   "metadata": {},
   "outputs": [
    {
     "data": {
      "image/png": "[encoded data removed]",
      "text/plain": [
       "<Figure size 504x504 with 1 Axes>"
      ]
     },
     "metadata": {
      "needs_background": "light"
     },
     "output_type": "display_data"
    }
   ],
   "source": [
    "plt.figure(figsize=(7,7))\n",
    "plt.plot(x_s_sol, psi0_sol, 'm+', label=\"psi_0(x)\")\n",
    "plt.grid()\n",
    "plt.title('Волновая функция основного состояния, аналитическое решение')\n",
    "plt.xlabel('x')\n",
    "plt.ylabel('psi0(x)')\n",
    "plt.legend()\n",
    "plt.show()"
   ]
  },
  {
   "cell_type": "markdown",
   "metadata": {},
   "source": [
    "### Численное решение:"
   ]
  },
  {
   "cell_type": "markdown",
   "metadata": {},
   "source": [
    "Уравнение:\n",
    "\n",
    "$$-\\frac{1}{2}\\frac{\\partial^2}{\\partial x^2} + \\frac{x^2}{2} = E_0\\psi(x)$$\n",
    "\n",
    "Если переписать вторую производную через конечную разность:\n",
    "\n",
    "$${\\psi}_i'' =\\frac{\\psi_{i-1} - 2\\psi_i + \\psi_{i+1}}{h^2}$$\n",
    "\n",
    "То уравнение в одной точке: \n",
    "\n",
    "$$\\frac{-\\psi_{i-1}}{2h^2} +(\\frac{1}{h^2}+\\frac{x_i^2}{2})\\psi_i + \\frac{\\psi_{i+1}}{2h^2} = E_0\\psi_i$$\n",
    "\n",
    "В матричном виде $H\\vec{\\psi} = E_0\\vec{\\psi}$ матрица $H$ в левой части будет трехдиагональной, следовательно для решения можно будет использовать метод прогонки: \n",
    "\n",
    "$$H = \n",
    "\\begin{pmatrix}\n",
    "\\frac{1}{h^2}+\\frac{x_1^2}{2} & \\frac{-1}{2h^2} & 0 & ... & 0 & 0 & 0\\\\ \n",
    "\\frac{-1}{2h^2} & \\frac{1}{h^2}+\\frac{x_2^2}{2} & \\frac{-1}{2h^2} & ... & 0 & 0 & 0\\\\ \n",
    "... & ... & ... & ... & ... & ... & ...\\\\ \n",
    "0 & 0 & 0 & ... & \\frac{-1}{2h^2} & \\frac{1}{h^2}+\\frac{x_{N-1}^2}{2} & \\frac{-1}{2h^2}\\\\ \n",
    "0 & 0 & 0 & ... & 0 & \\frac{-1}{2h^2} & \\frac{1}{h^2}+\\frac{x_N^2}{2}\n",
    "\\end{pmatrix}\n",
    "$$"
   ]
  },
  {
   "cell_type": "code",
   "execution_count": 5,
   "metadata": {},
   "outputs": [],
   "source": [
    "def U(x):\n",
    "    return (x**2)/2"
   ]
  },
  {
   "cell_type": "code",
   "execution_count": 6,
   "metadata": {},
   "outputs": [],
   "source": [
    "def make_matrix(N, x_start, x_end):\n",
    "    \n",
    "    h = (x_end - x_start)/N\n",
    "    \n",
    "    a = []\n",
    "    b = []\n",
    "    c = []\n",
    "    \n",
    "    for i in range(0, N):\n",
    "        xi = x_start + i*h\n",
    "        a.append(-0.5/(h**2))\n",
    "        b.append(1/(h**2) + U(xi))\n",
    "        c.append(-0.5/(h**2))\n",
    "        \n",
    "    a[0] = 0\n",
    "    c[N-1] = 0\n",
    "    \n",
    "    A = [a, b, c]\n",
    "    \n",
    "    return A"
   ]
  },
  {
   "cell_type": "markdown",
   "metadata": {},
   "source": [
    "### Метод итераций"
   ]
  },
  {
   "cell_type": "markdown",
   "metadata": {},
   "source": [
    "Степенной метод находит наибольшее собственное значение, а мы ищем основное состояние - наименьшую энергию - наименьшее собственное значение. Рассмотрим обратную матрицу, так как ее собственные значение будут обратными величинами к собственным значениям исходной матрицы.\n",
    "\n",
    "\"Прямой\" метод: \n",
    "\n",
    "Если расположить собственные числа в порядке возрастания, т.е. $E_1$ - максимальное, то: \n",
    "\n",
    "Возьмем произвольный вектор $\\psi^{(0)} = \\sum{a_i\\psi_i}, \\;\\; \\psi_i$ собственные вектора матрицы.\n",
    "\n",
    "Тогда итерационный процесс, при котором этот произвольный вектор каждый раз умножается на нашу матрицу $\\hat H$ будет сходиться к собственному вектору $\\psi_1$, соответсвующему наибольшему собственному значению $E_1$: \n",
    "\n",
    "$$\\psi^{(k)} = \\hat H \\psi^{(k-1)} \\;\\; \\rightarrow \\;\\; \\psi_1$$\n",
    "\n",
    "Но: нам необходимо наименьшее собственное значение. Оно же - наибольшее собственное значение для обратной матрицы $\\hat H^{-1}$. Тогда итерационный процесс: \n",
    "\n",
    "$$\\psi^{(k)} = \\hat H^{-1} \\psi^{(k-1)}$$\n",
    "\n",
    "Или: \n",
    "\n",
    "$$\\hat H \\psi^{(k)} = \\psi^{(k-1)}$$\n",
    "\n",
    "Итерационный процесс обратный - \"поднимаемся\" от последнего - метод прогонки!\n",
    "\n",
    "Собственное значение в таком случае: \n",
    "\n",
    "$$E_0 = \\frac{1}{\\lambda_{max}} = \\frac{\\left \\|\\psi^{[k-1]}  \\right \\|}{\\left \\|\\psi^{[k]}  \\right \\|}$$"
   ]
  },
  {
   "cell_type": "markdown",
   "metadata": {},
   "source": [
    "Метод прогонки для трехдиагональной матрицы: "
   ]
  },
  {
   "cell_type": "code",
   "execution_count": 7,
   "metadata": {},
   "outputs": [],
   "source": [
    "def solve_3diag(A, d, N):\n",
    "    \n",
    "    # A = [a, b, c]\n",
    "    \n",
    "    d_new = d.copy()\n",
    "    b_new = A[1].copy()\n",
    "    c_new = A[2].copy()\n",
    "    a_new = A[0].copy()\n",
    "    \n",
    "    for i in range(0, N):\n",
    "        k = a_new[i] / b_new[i-1]\n",
    "        b_new[i] -= k*c_new[i-1]\n",
    "        d_new[i] -= k*d_new[i-1]\n",
    "    \n",
    "    y = [i for i in range(N)]\n",
    "    \n",
    "    y[N-1] = d_new[N-1]/b_new[N-1]\n",
    "    \n",
    "    for i in range(N-2, -1, -1):\n",
    "        y[i] = (d_new[i] - c_new[i]*y[i+1])/b_new[i]\n",
    "        \n",
    "    return y"
   ]
  },
  {
   "cell_type": "markdown",
   "metadata": {},
   "source": [
    "### Вычисления: "
   ]
  },
  {
   "cell_type": "markdown",
   "metadata": {},
   "source": [
    "Границы и разбиение интервала:"
   ]
  },
  {
   "cell_type": "code",
   "execution_count": 8,
   "metadata": {},
   "outputs": [],
   "source": [
    "x_start = -5\n",
    "x_end = 5\n",
    "N = 500\n",
    "h = (x_end - x_start)/N \n",
    "\n",
    "x_s = [(x_start + i*h) for i in range(N)]"
   ]
  },
  {
   "cell_type": "markdown",
   "metadata": {},
   "source": [
    "**Еще раз вычислю точки аналитического решения:**"
   ]
  },
  {
   "cell_type": "code",
   "execution_count": 9,
   "metadata": {},
   "outputs": [],
   "source": [
    "psi0_sol = [psi0_analytical(x_s[i]) for i in range(N)]\n",
    "E0_sol = 1/2"
   ]
  },
  {
   "cell_type": "markdown",
   "metadata": {},
   "source": [
    "Нормировать на единицу:"
   ]
  },
  {
   "cell_type": "code",
   "execution_count": 10,
   "metadata": {},
   "outputs": [],
   "source": [
    "sol_norm = sla.norm(psi0_sol)\n",
    "psi0_sol = [psi0_sol[i]/sol_norm for i in range(len(psi0_sol))]"
   ]
  },
  {
   "cell_type": "markdown",
   "metadata": {},
   "source": [
    "**Метод обратных итераций:**"
   ]
  },
  {
   "cell_type": "markdown",
   "metadata": {},
   "source": [
    "Генерирую матрицу $\\hat H$ и начальный вектор:"
   ]
  },
  {
   "cell_type": "code",
   "execution_count": 11,
   "metadata": {},
   "outputs": [],
   "source": [
    "H = make_matrix(N, x_start, x_end) #трехдиагональная матрица\n",
    "\n",
    "psi_next = [i/N for i in range(N)] #как начальный случайный вектор возьму просто N точек от 0 до 1\n",
    "psi_prev = psi_next"
   ]
  },
  {
   "cell_type": "code",
   "execution_count": 12,
   "metadata": {},
   "outputs": [],
   "source": [
    "K = 50 #количество итераций\n",
    "\n",
    "for k in range(0, K):\n",
    "    psi_prev = psi_next\n",
    "    psi_next = solve_3diag(H, psi_prev, N)\n",
    "    \n",
    "E0 = sla.norm(psi_prev)/sla.norm(psi_next)\n",
    "\n",
    "psi0_norm = sla.norm(psi_next)\n",
    "psi0 = [psi_next[i]/psi0_norm for i in range(len(psi_next))]"
   ]
  },
  {
   "cell_type": "markdown",
   "metadata": {},
   "source": [
    "**Основной уровень энергии - численное решение:**"
   ]
  },
  {
   "cell_type": "code",
   "execution_count": 13,
   "metadata": {
    "scrolled": true
   },
   "outputs": [
    {
     "data": {
      "text/plain": [
       "0.4999874997576849"
      ]
     },
     "execution_count": 13,
     "metadata": {},
     "output_type": "execute_result"
    }
   ],
   "source": [
    "E0"
   ]
  },
  {
   "cell_type": "markdown",
   "metadata": {},
   "source": [
    "Аналитическое решение: "
   ]
  },
  {
   "cell_type": "code",
   "execution_count": 14,
   "metadata": {},
   "outputs": [
    {
     "data": {
      "text/plain": [
       "0.5"
      ]
     },
     "execution_count": 14,
     "metadata": {},
     "output_type": "execute_result"
    }
   ],
   "source": [
    "E0_sol"
   ]
  },
  {
   "cell_type": "code",
   "execution_count": 15,
   "metadata": {},
   "outputs": [
    {
     "data": {
      "text/plain": [
       "7504046833765258.0"
      ]
     },
     "execution_count": 15,
     "metadata": {},
     "output_type": "execute_result"
    }
   ],
   "source": [
    "psi0_norm"
   ]
  },
  {
   "cell_type": "code",
   "execution_count": 16,
   "metadata": {},
   "outputs": [
    {
     "data": {
      "image/png": "[encoded data removed]",
      "text/plain": [
       "<Figure size 504x504 with 1 Axes>"
      ]
     },
     "metadata": {
      "needs_background": "light"
     },
     "output_type": "display_data"
    }
   ],
   "source": [
    "plt.figure(figsize=(7,7))\n",
    "plt.plot(x_s, psi_next, 'b+', label=\"Численное решение\")\n",
    "#plt.plot(x_s, psi0_sol, 'm', label=\"Аналитическое решение\")\n",
    "plt.grid()\n",
    "plt.title('Волновая функция основного состояния, (-10, 10)')\n",
    "plt.xlabel('x')\n",
    "plt.ylabel('psi0(x)')\n",
    "#plt.yscale('log')\n",
    "plt.legend()\n",
    "plt.show()"
   ]
  },
  {
   "cell_type": "code",
   "execution_count": 17,
   "metadata": {},
   "outputs": [
    {
     "data": {
      "text/plain": [
       "7504046833765258.0"
      ]
     },
     "execution_count": 17,
     "metadata": {},
     "output_type": "execute_result"
    }
   ],
   "source": [
    "psi0_norm"
   ]
  },
  {
   "cell_type": "code",
   "execution_count": 18,
   "metadata": {},
   "outputs": [
    {
     "data": {
      "image/png": "[encoded data removed]",
      "text/plain": [
       "<Figure size 504x504 with 1 Axes>"
      ]
     },
     "metadata": {
      "needs_background": "light"
     },
     "output_type": "display_data"
    }
   ],
   "source": [
    "plt.figure(figsize=(7,7))\n",
    "plt.plot(x_s, psi_next, 'b+', label=\"Численное решение\")\n",
    "#plt.plot(x_s, psi0_sol, 'm', label=\"Аналитическое решение\")\n",
    "plt.grid()\n",
    "plt.title('Волновая функция основного состояния (-5, 5)')\n",
    "plt.xlabel('x')\n",
    "plt.ylabel('psi0(x)')\n",
    "#plt.yscale('log')\n",
    "plt.legend()\n",
    "plt.show()"
   ]
  },
  {
   "cell_type": "markdown",
   "metadata": {},
   "source": [
    "**Графики волновой функции основного состояния:**"
   ]
  },
  {
   "cell_type": "code",
   "execution_count": 19,
   "metadata": {
    "scrolled": false
   },
   "outputs": [
    {
     "data": {
      "image/png": "[encoded data removed]",
      "text/plain": [
       "<Figure size 504x504 with 1 Axes>"
      ]
     },
     "metadata": {
      "needs_background": "light"
     },
     "output_type": "display_data"
    }
   ],
   "source": [
    "plt.figure(figsize=(7,7))\n",
    "plt.plot(x_s, psi_next, 'b+', label=\"Численное решение\")\n",
    "#plt.plot(x_s, psi0_sol, 'm', label=\"Аналитическое решение\")\n",
    "plt.grid()\n",
    "plt.title('Волновая функция основного состояния')\n",
    "plt.xlabel('x')\n",
    "plt.ylabel('psi0(x)')\n",
    "#plt.yscale('log')\n",
    "plt.legend()\n",
    "plt.show()"
   ]
  },
  {
   "cell_type": "markdown",
   "metadata": {},
   "source": [
    "### Ошибки:"
   ]
  },
  {
   "cell_type": "markdown",
   "metadata": {},
   "source": [
    "Точность вычисления энергии:"
   ]
  },
  {
   "cell_type": "code",
   "execution_count": 20,
   "metadata": {},
   "outputs": [
    {
     "data": {
      "text/plain": [
       "1.2500242315083288e-05"
      ]
     },
     "execution_count": 20,
     "metadata": {},
     "output_type": "execute_result"
    }
   ],
   "source": [
    "E0_sol - E0"
   ]
  },
  {
   "cell_type": "code",
   "execution_count": 21,
   "metadata": {},
   "outputs": [],
   "source": [
    "err = [abs(psi0[i] - psi0_sol[i]) for i in range(len(x_s))]"
   ]
  },
  {
   "cell_type": "code",
   "execution_count": 22,
   "metadata": {},
   "outputs": [
    {
     "data": {
      "text/plain": [
       "3.171452899695124e-10"
      ]
     },
     "execution_count": 22,
     "metadata": {},
     "output_type": "execute_result"
    }
   ],
   "source": [
    "min(err)"
   ]
  },
  {
   "cell_type": "code",
   "execution_count": 23,
   "metadata": {},
   "outputs": [
    {
     "data": {
      "image/png": "[encoded data removed]",
      "text/plain": [
       "<Figure size 504x504 with 1 Axes>"
      ]
     },
     "metadata": {
      "needs_background": "light"
     },
     "output_type": "display_data"
    }
   ],
   "source": [
    "plt.figure(figsize=(7,7))\n",
    "plt.plot(x_s, err, 'b+', label=\"|psi0(x) - psi0_sol(x)|\")\n",
    "plt.grid()\n",
    "plt.title('Абсолютная ошибка:')\n",
    "plt.xlabel('x')\n",
    "plt.ylabel('|psi0(x) - psi0_sol(x)|')\n",
    "#plt.yscale('log')\n",
    "plt.legend()\n",
    "plt.show()"
   ]
  },
  {
   "cell_type": "markdown",
   "metadata": {},
   "source": [
    "Вероятно, загадка ошибок снова в вычислении разделенных разностей: \n",
    "\n",
    "$$\\frac{y(x-h) - 2y(x) + y(x+h)}{h^2} = y''(x) + \\frac{h^2}{12}y^{(iv)}(x)$$"
   ]
  },
  {
   "cell_type": "markdown",
   "metadata": {},
   "source": [
    "$$\\frac{h^2}{12} (\\frac{1}{\\pi})^{1/4} e^{-\\frac{x^2}{2}} (x^4 - 6x^2 + 3)$$"
   ]
  },
  {
   "cell_type": "code",
   "execution_count": 26,
   "metadata": {},
   "outputs": [],
   "source": [
    "def o(x):\n",
    "    return (h**2/12)*(1/math.pi)**(1/4)*math.exp((-1*x**2)/2)*(x**4 - 6*x**2 + 3)"
   ]
  },
  {
   "cell_type": "code",
   "execution_count": 29,
   "metadata": {},
   "outputs": [
    {
     "data": {
      "image/png": "[encoded data removed]",
      "text/plain": [
       "<Figure size 504x504 with 1 Axes>"
      ]
     },
     "metadata": {
      "needs_background": "light"
     },
     "output_type": "display_data"
    }
   ],
   "source": [
    "plt.figure(figsize=(7,7))\n",
    "plt.plot(x_s, [o(x) for x in x_s], 'b+', label=\"|psi0(x) - psi0_sol(x)|\")\n",
    "plt.grid()\n",
    "plt.title('Теоретически ошибка:')\n",
    "plt.xlabel('x')\n",
    "plt.ylabel('Ошибка')\n",
    "#plt.yscale('log')\n",
    "#plt.legend()\n",
    "plt.show()"
   ]
  },
  {
   "cell_type": "code",
   "execution_count": null,
   "metadata": {},
   "outputs": [],
   "source": []
  }
 ],
 "metadata": {
  "kernelspec": {
   "display_name": "Python 3",
   "language": "python",
   "name": "python3"
  },
  "language_info": {
   "codemirror_mode": {
    "name": "ipython",
    "version": 3
   },
   "file_extension": ".py",
   "mimetype": "text/x-python",
   "name": "python",
   "nbconvert_exporter": "python",
   "pygments_lexer": "ipython3",
   "version": "3.8.5"
  }
 },
 "nbformat": 4,
 "nbformat_minor": 4
}
