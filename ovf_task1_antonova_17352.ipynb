{
 "cells": [
  {
   "cell_type": "markdown",
   "metadata": {},
   "source": [
    "### Задача 1\n",
    "\n"
   ]
  },
  {
   "cell_type": "markdown",
   "metadata": {},
   "source": [
    "Машинным $ε$ называется такое число, что $1 + ε/2 = 1$, но $1 + ε \\neq 1$. (Также часто\n",
    "используется обозначение ULP – unit in the last place, или unit of least precision, единица\n",
    "в младшем разряде.) Найти машинное $ε$, число разрядов в мантиссе, максимальную\n",
    "и минимальную степени, при вычислениях с обычной и двойной точностью. Сравнить\n",
    "друг с другом четыре числа: $1, 1 + ε/2, 1 + ε, 1 + ε + ε/2$ , объяснить результат."
   ]
  },
  {
   "cell_type": "markdown",
   "metadata": {},
   "source": [
    "#### Теория: документация и методичка\n",
    "\n",
    "Floating point numbers are usually implemented using double in C; information about the precision and internal representation of floating point numbers for the machine on which your program is running is available in sys.float_info."
   ]
  },
  {
   "cell_type": "code",
   "execution_count": 42,
   "metadata": {},
   "outputs": [],
   "source": [
    "import sys\n",
    "import math"
   ]
  },
  {
   "cell_type": "code",
   "execution_count": 22,
   "metadata": {},
   "outputs": [
    {
     "data": {
      "text/plain": [
       "sys.float_info(max=1.7976931348623157e+308, max_exp=1024, max_10_exp=308, min=2.2250738585072014e-308, min_exp=-1021, min_10_exp=-307, dig=15, mant_dig=53, epsilon=2.220446049250313e-16, radix=2, rounds=1)"
      ]
     },
     "execution_count": 22,
     "metadata": {},
     "output_type": "execute_result"
    }
   ],
   "source": [
    "#будет, с чем свериться!\n",
    "sys.float_info"
   ]
  },
  {
   "cell_type": "code",
   "execution_count": 5,
   "metadata": {},
   "outputs": [
    {
     "data": {
      "text/plain": [
       "5.551115123125783e-17"
      ]
     },
     "execution_count": 5,
     "metadata": {},
     "output_type": "execute_result"
    }
   ],
   "source": [
    "0.1+0.2-0.3"
   ]
  },
  {
   "cell_type": "markdown",
   "metadata": {},
   "source": [
    "Результат произвольной арифметической операции также может содержать относительную погрешность округления $2 −(𝑛+1) = 𝜀/2$. Число $𝜀$ называют машинным эпсилон, или ULP, единицей в младшем разряде мантиссы. Другими словами, число $𝜀$ — это минимальная степень двойки (или, в общем случае, основания системы счисления), при сложении которой с единицей результат будет отличен от единицы.\n",
    "\n",
    "$𝜀$ характеризует именно относительную погрешность; абсолютная величина ошибки равна произведению $1/2𝜀 \\cdot 2^𝐸$, где 𝐸 — двоичный порядок вычисляемой величины. Указанная относительная ошибка округления ($𝜀/2$) относится к операциям умножения и деления, а также возникает при вводе числовых констант.\n",
    "\n",
    "**Следовательно из (\\*):  $𝜀 = 2^{-n}$**"
   ]
  },
  {
   "cell_type": "markdown",
   "metadata": {},
   "source": [
    "**Как буду искать $E_{max}$ :**\n",
    "\n",
    "$2^{E_{max}} \\cdot 2 = \\infty$\n",
    "\n",
    "$E_{max} \\rightarrow  E_{s max} = 11....10 = 2^\\omega - 1$"
   ]
  },
  {
   "cell_type": "code",
   "execution_count": 62,
   "metadata": {},
   "outputs": [
    {
     "name": "stdout",
     "output_type": "stream",
     "text": [
      "False\n",
      "False\n"
     ]
    }
   ],
   "source": [
    "print(float('inf') > 2*1.7976931348623157e+308) \n",
    "print(2*1.7976931348623157e+308 < 4*1.7976931348623157e+308) \n",
    "\n",
    "#эксперименты для проверки факта, что все бесконечности равны"
   ]
  },
  {
   "cell_type": "markdown",
   "metadata": {},
   "source": [
    "### шаг 1: найду 𝜀 и n\n",
    "\n",
    "$x = 2^{-n}$\n",
    "\n",
    "цикл остановится при $x = \\epsilon/2$"
   ]
  },
  {
   "cell_type": "code",
   "execution_count": 52,
   "metadata": {},
   "outputs": [
    {
     "name": "stdout",
     "output_type": "stream",
     "text": [
      "epsilon =  2.220446049250313e-16\n",
      "mantissa digits n =  52\n"
     ]
    }
   ],
   "source": [
    "x = 1\n",
    "n = 0\n",
    "\n",
    "while (x + 1 != 1):\n",
    "    x = x/2\n",
    "    n = n+1\n",
    "    \n",
    "n = n - 1 \n",
    "epsilon = x*2\n",
    "print(\"epsilon = \", epsilon)\n",
    "print(\"mantissa digits n = \", n)"
   ]
  },
  {
   "cell_type": "markdown",
   "metadata": {},
   "source": [
    "### шаг 2: найду Emax\n",
    "\n",
    "на старте $x_{current} = 1$\n",
    "\n",
    "в цикле \n",
    "\n",
    "$x_{current} = (-1)^0 \\cdot (1 + 0) \\cdot 2^E = 2^E$\n",
    "\n",
    "$x_{previous} = 2^{E-1}$"
   ]
  },
  {
   "cell_type": "code",
   "execution_count": 29,
   "metadata": {
    "scrolled": true
   },
   "outputs": [
    {
     "ename": "KeyboardInterrupt",
     "evalue": "",
     "output_type": "error",
     "traceback": [
      "\u001b[0;31m---------------------------------------------------------------------------\u001b[0m",
      "\u001b[0;31mKeyboardInterrupt\u001b[0m                         Traceback (most recent call last)",
      "\u001b[0;32m<ipython-input-29-170ee8e00603>\u001b[0m in \u001b[0;36m<module>\u001b[0;34m\u001b[0m\n\u001b[1;32m      5\u001b[0m \u001b[0;32mwhile\u001b[0m\u001b[0;34m(\u001b[0m\u001b[0mx_previous\u001b[0m \u001b[0;34m<\u001b[0m \u001b[0mx_current\u001b[0m\u001b[0;34m)\u001b[0m\u001b[0;34m:\u001b[0m\u001b[0;34m\u001b[0m\u001b[0;34m\u001b[0m\u001b[0m\n\u001b[1;32m      6\u001b[0m     \u001b[0mE\u001b[0m \u001b[0;34m=\u001b[0m \u001b[0mE\u001b[0m\u001b[0;34m+\u001b[0m\u001b[0;36m1\u001b[0m\u001b[0;34m\u001b[0m\u001b[0;34m\u001b[0m\u001b[0m\n\u001b[0;32m----> 7\u001b[0;31m     \u001b[0mx_previous\u001b[0m \u001b[0;34m=\u001b[0m \u001b[0;36m2\u001b[0m\u001b[0;34m**\u001b[0m\u001b[0;34m(\u001b[0m\u001b[0mE\u001b[0m\u001b[0;34m-\u001b[0m\u001b[0;36m1\u001b[0m\u001b[0;34m)\u001b[0m\u001b[0;34m\u001b[0m\u001b[0;34m\u001b[0m\u001b[0m\n\u001b[0m\u001b[1;32m      8\u001b[0m     \u001b[0mx_current\u001b[0m \u001b[0;34m=\u001b[0m \u001b[0;36m2\u001b[0m\u001b[0;34m**\u001b[0m\u001b[0mE\u001b[0m\u001b[0;34m\u001b[0m\u001b[0;34m\u001b[0m\u001b[0m\n\u001b[1;32m      9\u001b[0m \u001b[0;34m\u001b[0m\u001b[0m\n",
      "\u001b[0;31mKeyboardInterrupt\u001b[0m: "
     ]
    }
   ],
   "source": [
    "#не рабочая попытка 1\n",
    "x_current = 2\n",
    "x_previous = 1\n",
    "E = 1\n",
    "\n",
    "while(x_previous < x_current):\n",
    "    E = E+1\n",
    "    x_previous = 2**(E-1)\n",
    "    x_current = 2**E\n",
    "    \n",
    "print(\"E max = \", E)"
   ]
  },
  {
   "cell_type": "code",
   "execution_count": 34,
   "metadata": {},
   "outputs": [
    {
     "ename": "KeyboardInterrupt",
     "evalue": "",
     "output_type": "error",
     "traceback": [
      "\u001b[0;31m---------------------------------------------------------------------------\u001b[0m",
      "\u001b[0;31mKeyboardInterrupt\u001b[0m                         Traceback (most recent call last)",
      "\u001b[0;32m<ipython-input-34-66e6bc1ea19c>\u001b[0m in \u001b[0;36m<module>\u001b[0;34m\u001b[0m\n\u001b[1;32m      2\u001b[0m \u001b[0mE\u001b[0m \u001b[0;34m=\u001b[0m \u001b[0;36m1\u001b[0m\u001b[0;34m\u001b[0m\u001b[0;34m\u001b[0m\u001b[0m\n\u001b[1;32m      3\u001b[0m \u001b[0;34m\u001b[0m\u001b[0m\n\u001b[0;32m----> 4\u001b[0;31m \u001b[0;32mwhile\u001b[0m\u001b[0;34m(\u001b[0m\u001b[0;36m2\u001b[0m\u001b[0;34m**\u001b[0m\u001b[0;34m(\u001b[0m\u001b[0mE\u001b[0m\u001b[0;34m-\u001b[0m\u001b[0;36m1\u001b[0m\u001b[0;34m)\u001b[0m \u001b[0;34m<\u001b[0m \u001b[0;36m2\u001b[0m\u001b[0;34m**\u001b[0m\u001b[0mE\u001b[0m\u001b[0;34m)\u001b[0m\u001b[0;34m:\u001b[0m\u001b[0;34m\u001b[0m\u001b[0;34m\u001b[0m\u001b[0m\n\u001b[0m\u001b[1;32m      5\u001b[0m     \u001b[0mE\u001b[0m \u001b[0;34m=\u001b[0m \u001b[0mE\u001b[0m\u001b[0;34m+\u001b[0m\u001b[0;36m1\u001b[0m\u001b[0;34m\u001b[0m\u001b[0;34m\u001b[0m\u001b[0m\n\u001b[1;32m      6\u001b[0m \u001b[0;34m\u001b[0m\u001b[0m\n",
      "\u001b[0;31mKeyboardInterrupt\u001b[0m: "
     ]
    }
   ],
   "source": [
    "#не рабочая попытка 2\n",
    "x_current = 2\n",
    "E = 1\n",
    "\n",
    "while(2**(E-1) < 2**E):\n",
    "    E = E+1\n",
    "    \n",
    "E_max = E - 1\n",
    "print(\"E max = \", E)"
   ]
  },
  {
   "cell_type": "code",
   "execution_count": 46,
   "metadata": {},
   "outputs": [
    {
     "name": "stdout",
     "output_type": "stream",
     "text": [
      "E max =  1023\n"
     ]
    }
   ],
   "source": [
    "#внезапно рабочая попытка\n",
    "\n",
    "x = 1.\n",
    "E = 0\n",
    "\n",
    "while(not math.isinf(x)):\n",
    "    x = x*2\n",
    "    E = E+1\n",
    "    \n",
    "E_max = E - 1\n",
    "print(\"E max = \", E_max)"
   ]
  },
  {
   "cell_type": "markdown",
   "metadata": {},
   "source": [
    "### шаг 3: найду Emin через w\n",
    "\n",
    "$E_{max} = -1 + 2^{\\omega - 1}$\n",
    "\n",
    "$E_{min} = -2^{\\omega - 1} + 2$"
   ]
  },
  {
   "cell_type": "code",
   "execution_count": 49,
   "metadata": {},
   "outputs": [
    {
     "name": "stdout",
     "output_type": "stream",
     "text": [
      "w =  11\n",
      "E min =  -1022\n"
     ]
    }
   ],
   "source": [
    "w = math.log(E_max+1, 2) + 1\n",
    "E_min = -1 * 2**(w - 1) + 2\n",
    "\n",
    "print(\"w =\", int(w))\n",
    "print(\"E min =\", int(E_min))"
   ]
  },
  {
   "cell_type": "markdown",
   "metadata": {},
   "source": [
    "### Результаты\n",
    "\n",
    "число битов на дробную часть мантиссы $n = 52$  *совпало с методичкой, не совпало с sys.float_info*\n",
    "\n",
    "машинная $\\epsilon = 2.220446049250313e-16$  *совпало с методичкой, совпало с sys.float_info*\n",
    "\n",
    "число битов на показатель степени 2 $\\omega = 11$  *совпало со здравым смыслом: 64 - 52 мантисса - 1 на знак = 11*\n",
    "\n",
    "максимальная степень $E_{max} = 1023$ *не совпало с sys.float_info*\n",
    "\n",
    "минимальная степень $E_{min} = -1022$  *не совпало с sys.float_info*"
   ]
  },
  {
   "cell_type": "markdown",
   "metadata": {},
   "source": [
    "### Сравнение чисел"
   ]
  },
  {
   "cell_type": "code",
   "execution_count": 53,
   "metadata": {},
   "outputs": [
    {
     "name": "stdout",
     "output_type": "stream",
     "text": [
      "False\n",
      "True\n",
      "True\n"
     ]
    }
   ],
   "source": [
    "print(1 < 1 + epsilon/2)\n",
    "print(1 + epsilon/2 < 1 + epsilon)\n",
    "print(1 + epsilon < 1 + epsilon + epsilon/2)"
   ]
  },
  {
   "cell_type": "markdown",
   "metadata": {},
   "source": [
    "$1 = 1 + ε/2 < 1 + ε < 1 + ε + ε/2$"
   ]
  },
  {
   "cell_type": "code",
   "execution_count": 61,
   "metadata": {},
   "outputs": [],
   "source": [
    "import numpy as np"
   ]
  },
  {
   "cell_type": "code",
   "execution_count": null,
   "metadata": {},
   "outputs": [],
   "source": []
  }
 ],
 "metadata": {
  "kernelspec": {
   "display_name": "Python 3",
   "language": "python",
   "name": "python3"
  },
  "language_info": {
   "codemirror_mode": {
    "name": "ipython",
    "version": 3
   },
   "file_extension": ".py",
   "mimetype": "text/x-python",
   "name": "python",
   "nbconvert_exporter": "python",
   "pygments_lexer": "ipython3",
   "version": "3.8.2"
  }
 },
 "nbformat": 4,
 "nbformat_minor": 4
}
