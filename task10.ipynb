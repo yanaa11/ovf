{
 "cells": [
  {
   "cell_type": "markdown",
   "metadata": {},
   "source": [
    "# Задача 10\n",
    "\n",
    "Решить задачу Коши для одномерного уравнения диффузии по схеме Кранка-Николсон\n",
    "\n",
    "$$\\frac{\\partial u}{\\partial t} = \\frac{\\partial^2u}{\\partial x^2}, \\;\\; 0 < x < L, \\;\\; L=1$$\n",
    "\n",
    "$$u(0, t) = 0, u(L, t) = 0, \\;\\; u(x, 0) = x(1 - x/L)^2$$\n",
    "\n",
    "На каждом шаге по времени найти максимальное значение температуры и нарисовать\n",
    "зависимость максимальной температуры от времени. Показать, что на больших\n",
    "временах она убывает экспоненциально."
   ]
  },
  {
   "cell_type": "markdown",
   "metadata": {},
   "source": [
    "## Решение:"
   ]
  },
  {
   "cell_type": "code",
   "execution_count": 1,
   "metadata": {},
   "outputs": [],
   "source": [
    "import math\n",
    "import numpy as np\n",
    "import matplotlib.pyplot as plt"
   ]
  },
  {
   "cell_type": "markdown",
   "metadata": {},
   "source": [
    "### Схема Кранка-Николсона"
   ]
  },
  {
   "cell_type": "markdown",
   "metadata": {},
   "source": [
    "Обозначаю $v_j^m = v(x_j, t_m)$ - численное решение.\n",
    "\n",
    "Разностный опреатор:\n",
    "$$\\hat L_j^m = \\frac{ v_{j+1}^m - 2v_j^m + v_{j-1}^m}{h^2}$$\n",
    "\n",
    "Тогда схема Кранка-Николсона:\n",
    "\n",
    "$$\\frac{v_j^{m+1} - v_j^m}{\\tau} = \\frac{1}{2}\\hat L v_j^m + \\frac{1}{2}\\hat L v_j^{m+1}$$\n",
    "\n",
    "Или:\n",
    "\n",
    "$$\\frac{v_j^{m+1} - v_j^m}{\\tau} = \\frac{v_{j+1}^m - 2v_j^m +v_{j-1}^m}{2h^2} + \\frac{v_{j+1}^{m+1} - 2v_j^{m+1} +v_{j-1}^{m+1}}{2h^2}$$\n",
    "\n",
    "Можно переписать как: \n",
    "\n",
    "$$ a_jv_{j+1}^{n+1} + b_jv_j^{n+1} + c_jv_{j-1}^{n+1} = d_j $$"
   ]
  },
  {
   "cell_type": "markdown",
   "metadata": {},
   "source": [
    "Расчёт по схеме Кранка — Николсона требует использования метода прогонки для решения системы линейных уравнений на величины $v_j^{m+1}, \\;\\; j = 1, ... , N-1$\n",
    "\n",
    "Или в матричном виде, где: \n",
    "\n",
    "В левой части стоит трехдиагональная матрица. Задам её тремя списками:\n",
    "\n",
    "* `b` - элементы главной диагонали\n",
    "* `a` - элементы диагонали под главной\n",
    "* `с` - элементы диагонали над главной\n",
    "* `d` - вектор-столбец правой части\n",
    "\n",
    "В каждом списке элементы с индексами $0 ... n$, при этом $a_0 = 0$ и $c_N = 0$.\n",
    "\n",
    "$$ a_j = \\left\\{\\begin{matrix}\n",
    "0, & j = 1\\\\ \n",
    "-\\frac{\\tau}{2h^2}, & j = 1, ..., N-1;\n",
    "\\end{matrix}\\right. $$\n",
    "$$b_j = 1 + \\frac{\\tau}{h^2};$$\n",
    "$$ c_j = \\left\\{\\begin{matrix}\n",
    "-\\frac{\\tau}{2h^2}, & j = 1, ..., N-2\\\\ \n",
    "0, & j = N-1;\n",
    "\\end{matrix}\\right.\\ $$\n",
    "$$d_j = \\frac{\\tau(v_{j+1}^m + (-2 + \\frac{2h^2}{\\tau})v_j^m +v_{j-1}^m)}{2h^2}$$\n",
    "\n",
    "То есть на каждом слое по времени я решаю эту систему с матрицей, \"продвигающей по x\""
   ]
  },
  {
   "cell_type": "markdown",
   "metadata": {},
   "source": [
    "### Создание матрицы и решение для трехдиагональной матрицы\n",
    "\n",
    "Матрицу задаю в виде списков поддиагональных (`a`), диагональных (`b`) и наддиагональных (`c`) элементов.\n",
    "\n",
    "Правая часть (`d`) будет генерироваться каждый раз отдельно."
   ]
  },
  {
   "cell_type": "code",
   "execution_count": 2,
   "metadata": {},
   "outputs": [],
   "source": [
    "def make_matrix(n, x_start, x_end, tau):\n",
    "    \n",
    "    h = (x_start - x_end)/n\n",
    "    \n",
    "    a = []\n",
    "    b = []\n",
    "    c = []\n",
    "    \n",
    "    for i in range(0, n-1):\n",
    "        a.append(-0.5*tau/h**2)\n",
    "        b.append(1 + tau/h**2)\n",
    "        c.append(-0.5*tau/h**2)\n",
    "        \n",
    "    a[0] = 0\n",
    "    c[n-2] = 0\n",
    "    \n",
    "    A = [a, b, c]\n",
    "    \n",
    "    return A"
   ]
  },
  {
   "cell_type": "markdown",
   "metadata": {},
   "source": [
    "Метод прогонки:"
   ]
  },
  {
   "cell_type": "code",
   "execution_count": 3,
   "metadata": {},
   "outputs": [],
   "source": [
    "def solve_3diag(A, d, n):\n",
    "    \n",
    "    # A = [a, b, c]\n",
    "    \n",
    "    d_new = d.copy()\n",
    "    b_new = A[1].copy()\n",
    "    c_new = A[2].copy()\n",
    "    a_new = A[0].copy()\n",
    "    \n",
    "    for i in range(0, n-1):\n",
    "        k = a_new[i] / b_new[i-1]\n",
    "        b_new[i] -= k*c_new[i-1]\n",
    "        d_new[i] -= k*d_new[i-1]\n",
    "    \n",
    "    y = [i for i in range(n-1)]\n",
    "    \n",
    "    y[n-2] = d_new[n-2]/b_new[n-2]\n",
    "    \n",
    "    for i in range(n-3, -1, -1):\n",
    "        y[i] = (d_new[i] - c_new[i]*y[i+1])/b_new[i]\n",
    "        \n",
    "    return y"
   ]
  },
  {
   "cell_type": "markdown",
   "metadata": {},
   "source": [
    "### Начальные и граничные условия:"
   ]
  },
  {
   "cell_type": "code",
   "execution_count": 40,
   "metadata": {},
   "outputs": [],
   "source": [
    "L = 1\n",
    "x_start = 0\n",
    "x_end = L\n",
    "\n",
    "u_0t = 0 #u(0,t) = 0\n",
    "u_Lt = 0 #u(L,t) = 0\n",
    "\n",
    "def u_x0(x):\n",
    "    return x*((1 - x/L)**2) #u(x,0) = x(1-x/L)^2"
   ]
  },
  {
   "cell_type": "code",
   "execution_count": 49,
   "metadata": {},
   "outputs": [],
   "source": [
    "#сетка по пространственной координате\n",
    "N = 10\n",
    "h = (x_end - x_start)/N\n",
    "\n",
    "T = 10 #точек по времени\n",
    "t_start = 0\n",
    "t_end = 0.1\n",
    "tau = (t_end - t_start)/T  #шаг по времени"
   ]
  },
  {
   "cell_type": "code",
   "execution_count": 50,
   "metadata": {},
   "outputs": [],
   "source": [
    "#значения в начальный момент времени t=0 во всех точках x_j\n",
    "u_x0_s = []\n",
    "x_s = []\n",
    "for j in range(0, N+1):\n",
    "    x_s.append(x_start + j*h)\n",
    "    u_x0_s.append(u_x0(x_s[j]))"
   ]
  },
  {
   "cell_type": "code",
   "execution_count": 51,
   "metadata": {},
   "outputs": [],
   "source": [
    "A = make_matrix(N, x_start, x_end, tau)"
   ]
  },
  {
   "cell_type": "markdown",
   "metadata": {},
   "source": [
    "### Вычисления"
   ]
  },
  {
   "cell_type": "code",
   "execution_count": 52,
   "metadata": {},
   "outputs": [],
   "source": [
    "#разностный оператор для удобства\n",
    "def Lu(j, m):\n",
    "    return (u[m][j+1] - 2*u[m][j] + u[m][j-1]) / h**2"
   ]
  },
  {
   "cell_type": "code",
   "execution_count": 53,
   "metadata": {},
   "outputs": [],
   "source": [
    "u = [] #решения по слоям (список списков)\n",
    "\n",
    "#в начальный момент времени\n",
    "u.append(u_x0_s)\n",
    "\n",
    "for m in range(T):\n",
    "    \n",
    "    #собирать правую часть\n",
    "    d = []\n",
    "    for j in range(1, N):\n",
    "        d.append(u[m][j] + tau / 2 * Lu(j, m))\n",
    "    \n",
    "    #решение\n",
    "    sol = solve_3diag(A, d, N)\n",
    "    #значения на концах\n",
    "    sol.insert(0, 0)\n",
    "    sol.append(0)\n",
    "    \n",
    "    u.append(sol)"
   ]
  },
  {
   "cell_type": "markdown",
   "metadata": {},
   "source": [
    "**Максимальная температура**:"
   ]
  },
  {
   "cell_type": "code",
   "execution_count": 54,
   "metadata": {},
   "outputs": [],
   "source": [
    "u_max = []\n",
    "t = []\n",
    "\n",
    "for i in range(len(u)):\n",
    "    u_max.append(max(u[i]))\n",
    "    t.append(t_start+tau*i)"
   ]
  },
  {
   "cell_type": "code",
   "execution_count": 55,
   "metadata": {},
   "outputs": [
    {
     "data": {
      "image/png": "[encoded data removed]",
      "text/plain": [
       "<Figure size 720x504 with 1 Axes>"
      ]
     },
     "metadata": {
      "needs_background": "light"
     },
     "output_type": "display_data"
    }
   ],
   "source": [
    "plt.figure(figsize=(10, 7))\n",
    "plt.plot(t, u_max, 'b+', label = 'u_max')\n",
    "plt.grid()\n",
    "plt.title('Зависимость максимальной температуры от времени')\n",
    "plt.xlabel('t')\n",
    "plt.ylabel('u_max')\n",
    "plt.show()"
   ]
  },
  {
   "cell_type": "code",
   "execution_count": 56,
   "metadata": {},
   "outputs": [
    {
     "data": {
      "image/png": "[encoded data removed]",
      "text/plain": [
       "<Figure size 720x720 with 1 Axes>"
      ]
     },
     "metadata": {
      "needs_background": "light"
     },
     "output_type": "display_data"
    }
   ],
   "source": [
    "plt.figure(figsize=(10, 10))\n",
    "plt.imshow(u, aspect='auto')\n",
    "plt.grid()\n",
    "plt.title('Распределение температуры по координате и времени')\n",
    "plt.xlabel('x, номер точки')\n",
    "plt.ylabel('t, номер точки')\n",
    "plt.show()"
   ]
  },
  {
   "cell_type": "code",
   "execution_count": null,
   "metadata": {},
   "outputs": [],
   "source": []
  }
 ],
 "metadata": {
  "kernelspec": {
   "display_name": "Python 3",
   "language": "python",
   "name": "python3"
  },
  "language_info": {
   "codemirror_mode": {
    "name": "ipython",
    "version": 3
   },
   "file_extension": ".py",
   "mimetype": "text/x-python",
   "name": "python",
   "nbconvert_exporter": "python",
   "pygments_lexer": "ipython3",
   "version": "3.8.5"
  }
 },
 "nbformat": 4,
 "nbformat_minor": 4
}
