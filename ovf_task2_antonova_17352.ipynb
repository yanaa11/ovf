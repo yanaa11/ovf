{
 "cells": [
  {
   "cell_type": "markdown",
   "metadata": {},
   "source": [
    "# Задача 2\n",
    "\n",
    "Используя методы дихотомии, простых итераций и Ньютона, найти уровень энергии $E$ основного состояния квантовой частицы в прямоугольной потенциальной яме\n",
    "\n",
    "$$ -\\frac{\\hbar^2}{2m}\\psi''(x) + U(x)\\psi(x) = E\\psi(x) $$\n",
    "\n",
    "$$ U(x) = -U_0, |x| \\leq a $$\n"
   ]
  },
  {
   "cell_type": "markdown",
   "metadata": {},
   "source": [
    "Делаем сшивку решений в яме и внутри ямы в точке $a$. В итоге получаем уравнение на энергию: \n",
    "\n",
    "$$ \\sqrt{\\frac{1}{y} - 1} = ctg \\sqrt{\\frac{2 m a^2 U_0}{\\hbar^2}(1 - y)} , $$ \n",
    "$$ y = \\frac{-E}{U_o} $$\n",
    "\n",
    "Тогда уравнение: $f(y) = 0$\n",
    "\n",
    "$$f(y) =  \\sqrt{\\frac{1}{y} - 1} - ctg \\sqrt{\\frac{2 m a^2 U_0}{\\hbar^2}(1 - y)}$$\n",
    "\n",
    "$$ 0 < y < 1 $$\n",
    "$$ E < 0, |E| < U_0 $$"
   ]
  },
  {
   "cell_type": "code",
   "execution_count": 20,
   "metadata": {},
   "outputs": [],
   "source": [
    "import math\n",
    "import matplotlib.pyplot as plt\n",
    "import sys\n",
    "import numpy as np"
   ]
  },
  {
   "cell_type": "markdown",
   "metadata": {},
   "source": [
    "### Задам параметры численно"
   ]
  },
  {
   "cell_type": "code",
   "execution_count": 438,
   "metadata": {},
   "outputs": [],
   "source": [
    "a_quant = 1e-12 #cm\n",
    "U_0 = 50 * 1e6 * 1.6e-12 #50 MeV -> erg (g * cm^2 / s^2)\n",
    "m = 9.1e-28 #g \n",
    "h = 1.054e-27 #erg*s\n",
    "epsilon = 2.220446049250313e-16"
   ]
  },
  {
   "cell_type": "markdown",
   "metadata": {},
   "source": [
    "### Определю функцию  f(y)"
   ]
  },
  {
   "cell_type": "code",
   "execution_count": 439,
   "metadata": {},
   "outputs": [],
   "source": [
    "class Func_F:\n",
    "    def __init__(self, a, U_0, m, h):\n",
    "        self.a = a\n",
    "        self.U_0 = U_0\n",
    "        self.m = m\n",
    "        self.h = h\n",
    "        self.const = 2*self.a*self.a*self.m*self.U_0/(self.h*self.h)\n",
    "        \n",
    "    \n",
    "    def f(self, y):\n",
    "        return np.sqrt(1/y - 1) - 1/np.tan(np.sqrt(self.const*(1 - y)))\n",
    "    \n",
    "    def f_der(self, y):\n",
    "        return -(self.const/(2*np.sqrt(1 - y)*(np.sin(self.const*np.sqrt(1 - y)))**2) + 1/(2*np.sqrt(1/y - 1)*y*y))"
   ]
  },
  {
   "cell_type": "code",
   "execution_count": 440,
   "metadata": {},
   "outputs": [],
   "source": [
    "func_f = Func_F(a_quant, U_0, m, h)"
   ]
  },
  {
   "cell_type": "code",
   "execution_count": 441,
   "metadata": {},
   "outputs": [
    {
     "data": {
      "text/plain": [
       "-2.820678359790789"
      ]
     },
     "execution_count": 441,
     "metadata": {},
     "output_type": "execute_result"
    }
   ],
   "source": [
    "func_f.f(0.5)"
   ]
  },
  {
   "cell_type": "code",
   "execution_count": 442,
   "metadata": {},
   "outputs": [
    {
     "data": {
      "image/png": "[encoded data removed]",
      "text/plain": [
       "<Figure size 432x288 with 1 Axes>"
      ]
     },
     "metadata": {
      "needs_background": "light"
     },
     "output_type": "display_data"
    }
   ],
   "source": [
    "y1 = np.arange(0.01, 0.99, 0.01)\n",
    "plt.plot(y1, func_f.f(y1))\n",
    "plt.grid()\n",
    "plt.xlabel('y')\n",
    "plt.ylabel('f(y)')\n",
    "plt.title('Function')\n",
    "plt.show()"
   ]
  },
  {
   "cell_type": "code",
   "execution_count": 443,
   "metadata": {},
   "outputs": [
    {
     "data": {
      "image/png": "[encoded data removed]",
      "text/plain": [
       "<Figure size 432x288 with 1 Axes>"
      ]
     },
     "metadata": {
      "needs_background": "light"
     },
     "output_type": "display_data"
    }
   ],
   "source": [
    "y1 = np.arange(0.01, 0.2, 0.01)\n",
    "plt.plot(y1, func_f.f(y1))\n",
    "plt.grid()\n",
    "plt.xlabel('y')\n",
    "plt.ylabel('f(y)')\n",
    "plt.title('Function')\n",
    "plt.show()"
   ]
  },
  {
   "cell_type": "markdown",
   "metadata": {},
   "source": [
    "## Метод дихотомии"
   ]
  },
  {
   "cell_type": "markdown",
   "metadata": {},
   "source": [
    "\"Условие выхода из цикла итераций должно быть\n",
    "основано на сравнении ширины отрезка и требуемой точности (не пре-\n",
    "восходящей точность, обеспечиваемую используемым типом данных с\n",
    "плавающей точкой).\" \n",
    "\n",
    "Максимальная абсолютная погрешность определения корня $x_*$ равна $\\frac{1}{2}(b − a) $ и на каждой итерации уменьшается вдвое.\n",
    "\n",
    "Каждый шаг дихотомии даёт один дополнительный бит мантиссы. Это позволяет оценить необходимое число шагов для достижения требуемой точности:\n",
    "\n",
    "$$ N \\approx \\frac{log(\\delta_0/\\delta)}{log2} , $$\n",
    "\n",
    "где $\\delta_0$ и $\\delta$ — точность начального приближения и требуемая точность нахождения корня соответственно."
   ]
  },
  {
   "cell_type": "code",
   "execution_count": 462,
   "metadata": {},
   "outputs": [
    {
     "name": "stdout",
     "output_type": "stream",
     "text": [
      "8\n",
      "23\n",
      "True\n"
     ]
    }
   ],
   "source": [
    "#начальная и требуемая точность\n",
    "d_0 = 0.1\n",
    "d = 0.000000001\n",
    "\n",
    "prec = int(-np.log10(d))\n",
    "print(prec)\n",
    "\n",
    "#число итераций\n",
    "N = round(np.log10(d_0/d)/np.log10(2))\n",
    "print(N)\n",
    "\n",
    "#начальные границы отрезка\n",
    "a = 0.1\n",
    "b = 0.125\n",
    "\n",
    "print(func_f.f(a)*func_f.f(b) < 0)"
   ]
  },
  {
   "cell_type": "code",
   "execution_count": 463,
   "metadata": {},
   "outputs": [],
   "source": [
    "f_a = func_f.f(a)\n",
    "f_b = func_f.f(b)\n",
    "\n",
    "mids = []\n",
    "\n",
    "for i in range(N):\n",
    "    \n",
    "    mid = (a + b)/2\n",
    "    f_mid = func_f.f(mid)\n",
    "    \n",
    "    if (f_a*f_mid <= 0):\n",
    "        \n",
    "        b = mid\n",
    "        f_b = func_f.f(b)\n",
    "            \n",
    "    elif (f_mid*f_b <= 0):\n",
    "        \n",
    "        a = mid\n",
    "        f_a = f_mid\n",
    "        \n",
    "    mids.append((a + b)/2)\n",
    "    \n",
    "    #print(i)\n",
    "        \n",
    "    if (np.abs(f_a - 0) < d):\n",
    "            root = a\n",
    "            #print('aaa')\n",
    "            break\n",
    "    if (np.abs(f_b - 0) < d):\n",
    "            root = b\n",
    "            #print('bbb')\n",
    "            break        \n",
    "    \n",
    "root_dichotomy = (a+b)/2"
   ]
  },
  {
   "cell_type": "code",
   "execution_count": 464,
   "metadata": {
    "scrolled": true
   },
   "outputs": [
    {
     "name": "stdout",
     "output_type": "stream",
     "text": [
      "root: 0.11194503\n"
     ]
    }
   ],
   "source": [
    "print(\"root: \"+\"%.8f\" % (root_dichotomy))"
   ]
  },
  {
   "cell_type": "code",
   "execution_count": 465,
   "metadata": {},
   "outputs": [
    {
     "data": {
      "image/png": "[encoded data removed]",
      "text/plain": [
       "<Figure size 432x288 with 1 Axes>"
      ]
     },
     "metadata": {
      "needs_background": "light"
     },
     "output_type": "display_data"
    }
   ],
   "source": [
    "y1 = np.arange(0.1, 0.13, 0.005)\n",
    "plt.plot(y1, func_f.f(y1), 'b', mids, [0 for i in range(len(mids))], 'ro')\n",
    "plt.grid()\n",
    "plt.xlabel('y')\n",
    "plt.ylabel('f(y)')\n",
    "plt.title('Dichotomy')\n",
    "plt.show()"
   ]
  },
  {
   "cell_type": "markdown",
   "metadata": {},
   "source": [
    "## Метод итераций"
   ]
  },
  {
   "cell_type": "code",
   "execution_count": 448,
   "metadata": {},
   "outputs": [
    {
     "data": {
      "text/plain": [
       "-18.74769365301527"
      ]
     },
     "execution_count": 448,
     "metadata": {},
     "output_type": "execute_result"
    }
   ],
   "source": [
    "func_f.f_der(root_dichotomy)"
   ]
  },
  {
   "cell_type": "markdown",
   "metadata": {},
   "source": [
    "Модуль значения производной явно не < 1, значит надо пользоваться модификацией метода. Переход к обратной функции - сложно. Буду пользоваться введением корректирующего множителя $\\lambda$. \n",
    "\n",
    "$$|f'(y)| < \\inf $$\n",
    "\n",
    "При правильном выборе $\\lambda$ будет сходиться итерационный процесс\n",
    "\n",
    "$$ y_{n+1} = y_n - \\lambda f(y_n) $$\n",
    "\n",
    "Знак $\\lambda$ нужно выбирать равным знаку производной, а значение - по возможности ближе к $1/f'(y_*)$\n",
    "\n",
    "Выход из цикла итераций можно осуществлять, проверяя условие\n",
    "малости изменения $y$ на последней итерации: $|y_n − y_{n−1} | < \\delta$ , где $\\delta$ —требуемая точность."
   ]
  },
  {
   "cell_type": "code",
   "execution_count": 466,
   "metadata": {},
   "outputs": [
    {
     "name": "stdout",
     "output_type": "stream",
     "text": [
      "-0.04726367785888994\n"
     ]
    }
   ],
   "source": [
    "lmbd = 1/func_f.f_der(0.1)\n",
    "print(lmbd)"
   ]
  },
  {
   "cell_type": "code",
   "execution_count": 467,
   "metadata": {},
   "outputs": [
    {
     "name": "stdout",
     "output_type": "stream",
     "text": [
      "0.1119449928237321\n",
      "Iterations: 17\n"
     ]
    }
   ],
   "source": [
    "y_n_prev = 0.1 #n-1\n",
    "y_n = 0.11 #n\n",
    "\n",
    "d = 0.00000001\n",
    "\n",
    "y_s_iter = []\n",
    "counter_iter = 0\n",
    "\n",
    "\n",
    "while(np.abs(y_n - y_n_prev) > d):\n",
    "    tmp = y_n\n",
    "    y_n = y_n_prev - lmbd*func_f.f(y_n_prev)\n",
    "    y_n_prev = tmp\n",
    "    y_s_iter.append(y_n)\n",
    "    counter_iter += 1\n",
    "    \n",
    "    #print(y_n)\n",
    "    \n",
    "print(y_n)\n",
    "print(\"Iterations:\", counter_iter)\n",
    "root_iter = y_n"
   ]
  },
  {
   "cell_type": "code",
   "execution_count": 468,
   "metadata": {},
   "outputs": [
    {
     "name": "stdout",
     "output_type": "stream",
     "text": [
      "root: 0.11194499\n"
     ]
    }
   ],
   "source": [
    "print(\"root: \"+\"%.8f\" % (root_iter))"
   ]
  },
  {
   "cell_type": "code",
   "execution_count": 469,
   "metadata": {},
   "outputs": [
    {
     "data": {
      "image/png": "[encoded data removed]",
      "text/plain": [
       "<Figure size 432x288 with 1 Axes>"
      ]
     },
     "metadata": {
      "needs_background": "light"
     },
     "output_type": "display_data"
    }
   ],
   "source": [
    "y1 = np.arange(0.11, 0.115, 0.005)\n",
    "plt.plot(y1, func_f.f(y1), 'b', y_s_iter, [0 for i in range(len(y_s_iter))], 'ro')\n",
    "plt.grid()\n",
    "plt.xlabel('y')\n",
    "plt.ylabel('f(y)')\n",
    "plt.title('Iterations')\n",
    "plt.show()"
   ]
  },
  {
   "cell_type": "markdown",
   "metadata": {},
   "source": [
    "## Метод Ньютона\n",
    "\n",
    "Итерационный процесс:\n",
    "\n",
    "$$ y_{n+1} = y_n - \\frac{f(y_n)}{f'(y_n)} $$"
   ]
  },
  {
   "cell_type": "code",
   "execution_count": 459,
   "metadata": {},
   "outputs": [
    {
     "name": "stdout",
     "output_type": "stream",
     "text": [
      "0.1119449944103177\n",
      "Iterations: 13\n"
     ]
    }
   ],
   "source": [
    "y_n_prev = 0.1 #n-1\n",
    "y_n = 0.11 #n\n",
    "\n",
    "d = 0.00000001\n",
    "\n",
    "y_s_Newton = []\n",
    "counter_Newton = 0\n",
    "\n",
    "while(np.abs(y_n - y_n_prev) > d):\n",
    "    tmp = y_n\n",
    "    y_n = y_n_prev - func_f.f(y_n_prev)/func_f.f_der(y_n_prev)\n",
    "    y_n_prev = tmp\n",
    "    y_s_Newton.append(y_n)\n",
    "    counter_Newton += 1\n",
    "    \n",
    "    \n",
    "    #print(y_n)\n",
    "    \n",
    "print(y_n)\n",
    "print(\"Iterations:\", counter_Newton)\n",
    "root_Newton = y_n"
   ]
  },
  {
   "cell_type": "code",
   "execution_count": 460,
   "metadata": {},
   "outputs": [
    {
     "name": "stdout",
     "output_type": "stream",
     "text": [
      "root: 0.11194499\n"
     ]
    }
   ],
   "source": [
    "print(\"root: \"+\"%.8f\" % (root_Newton))"
   ]
  },
  {
   "cell_type": "code",
   "execution_count": 461,
   "metadata": {},
   "outputs": [
    {
     "data": {
      "image/png": "[encoded data removed]",
      "text/plain": [
       "<Figure size 432x288 with 1 Axes>"
      ]
     },
     "metadata": {
      "needs_background": "light"
     },
     "output_type": "display_data"
    }
   ],
   "source": [
    "y1 = np.arange(0.105, 0.115, 0.005)\n",
    "plt.plot(y1, func_f.f(y1), 'b', y_s_Newton, [0 for i in range(len(y_s_Newton))], 'ro')\n",
    "plt.grid()\n",
    "plt.xlabel('y')\n",
    "plt.ylabel('f(y)')\n",
    "plt.title('Newton')\n",
    "plt.show()"
   ]
  },
  {
   "cell_type": "code",
   "execution_count": null,
   "metadata": {},
   "outputs": [],
   "source": []
  }
 ],
 "metadata": {
  "kernelspec": {
   "display_name": "Python 3",
   "language": "python",
   "name": "python3"
  },
  "language_info": {
   "codemirror_mode": {
    "name": "ipython",
    "version": 3
   },
   "file_extension": ".py",
   "mimetype": "text/x-python",
   "name": "python",
   "nbconvert_exporter": "python",
   "pygments_lexer": "ipython3",
   "version": "3.8.5"
  }
 },
 "nbformat": 4,
 "nbformat_minor": 4
}
