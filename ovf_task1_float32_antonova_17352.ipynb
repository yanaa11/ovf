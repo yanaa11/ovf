{
 "cells": [
  {
   "cell_type": "markdown",
   "metadata": {},
   "source": [
    "### Задача 1\n",
    "\n"
   ]
  },
  {
   "cell_type": "markdown",
   "metadata": {},
   "source": [
    "Машинным $ε$ называется такое число, что $1 + ε/2 = 1$, но $1 + ε \\neq 1$. (Также часто\n",
    "используется обозначение ULP – unit in the last place, или unit of least precision, единица\n",
    "в младшем разряде.) Найти машинное $ε$, число разрядов в мантиссе, максимальную\n",
    "и минимальную степени, при вычислениях с обычной и двойной точностью. Сравнить\n",
    "друг с другом четыре числа: $1, 1 + ε/2, 1 + ε, 1 + ε + ε/2$ , объяснить результат."
   ]
  },
  {
   "cell_type": "markdown",
   "metadata": {},
   "source": [
    "#### Теория: документация и методичка\n",
    "\n",
    "Floating point numbers are usually implemented using double in C; information about the precision and internal representation of floating point numbers for the machine on which your program is running is available in sys.float_info."
   ]
  },
  {
   "cell_type": "code",
   "execution_count": 15,
   "metadata": {},
   "outputs": [],
   "source": [
    "import sys\n",
    "import math\n",
    "import numpy as np"
   ]
  },
  {
   "cell_type": "markdown",
   "metadata": {},
   "source": [
    "Результат произвольной арифметической операции также может содержать относительную погрешность округления $2 −(𝑛+1) = 𝜀/2$. Число $𝜀$ называют машинным эпсилон, или ULP, единицей в младшем разряде мантиссы. Другими словами, число $𝜀$ — это минимальная степень двойки (или, в общем случае, основания системы счисления), при сложении которой с единицей результат будет отличен от единицы.\n",
    "\n",
    "$𝜀$ характеризует именно относительную погрешность; абсолютная величина ошибки равна произведению $1/2𝜀 \\cdot 2^𝐸$, где 𝐸 — двоичный порядок вычисляемой величины. Указанная относительная ошибка округления ($𝜀/2$) относится к операциям умножения и деления, а также возникает при вводе числовых констант.\n",
    "\n",
    "**Следовательно из (\\*):  $𝜀 = 2^{-n}$**"
   ]
  },
  {
   "cell_type": "markdown",
   "metadata": {},
   "source": [
    "**Как буду искать $E_{max}$ :**\n",
    "\n",
    "$2^{E_{max}} \\cdot 2 = \\infty$\n",
    "\n",
    "$E_{max} \\rightarrow  E_{s max} = 11....10 = 2^\\omega - 1$"
   ]
  },
  {
   "cell_type": "markdown",
   "metadata": {},
   "source": [
    "### шаг 1: найду 𝜀 и n\n",
    "\n",
    "$x = 2^{-n}$\n",
    "\n",
    "цикл остановится при $x = \\epsilon/2$"
   ]
  },
  {
   "cell_type": "code",
   "execution_count": 27,
   "metadata": {},
   "outputs": [
    {
     "name": "stdout",
     "output_type": "stream",
     "text": [
      "epsilon =  1.1920929e-07\n",
      "mantissa digits n =  23\n"
     ]
    }
   ],
   "source": [
    "x = np.float32(1)\n",
    "n = 0\n",
    "\n",
    "while (x + np.float32(1) != np.float32(1)):\n",
    "    x = np.float32(x/np.float32(2))\n",
    "    n = n+1\n",
    "    \n",
    "n = n - 1 \n",
    "epsilon = np.float32(x*2)\n",
    "print(\"epsilon = \", epsilon)\n",
    "print(\"mantissa digits n = \", n)"
   ]
  },
  {
   "cell_type": "code",
   "execution_count": 28,
   "metadata": {
    "scrolled": true
   },
   "outputs": [
    {
     "data": {
      "text/plain": [
       "numpy.float32"
      ]
     },
     "execution_count": 28,
     "metadata": {},
     "output_type": "execute_result"
    }
   ],
   "source": [
    "type(x)"
   ]
  },
  {
   "cell_type": "markdown",
   "metadata": {},
   "source": [
    "### шаг 2: найду Emax\n",
    "\n",
    "на старте $x_{current} = 1$\n",
    "\n",
    "в цикле \n",
    "\n",
    "$x_{current} = (-1)^0 \\cdot (1 + 0) \\cdot 2^E = 2^E$\n",
    "\n",
    "$x_{previous} = 2^{E-1}$"
   ]
  },
  {
   "cell_type": "code",
   "execution_count": 31,
   "metadata": {},
   "outputs": [
    {
     "name": "stdout",
     "output_type": "stream",
     "text": [
      "E max =  127\n"
     ]
    },
    {
     "name": "stderr",
     "output_type": "stream",
     "text": [
      "<ipython-input-31-591ceee6edee>:7: RuntimeWarning: overflow encountered in float_scalars\n",
      "  x = np.float32(x*np.float32(2))\n"
     ]
    }
   ],
   "source": [
    "#внезапно рабочая попытка\n",
    "\n",
    "x = np.float32(1)\n",
    "E = 0\n",
    "\n",
    "while(not math.isinf(x)):\n",
    "    x = np.float32(x*np.float32(2))\n",
    "    E = E+1\n",
    "    \n",
    "E_max = E - 1\n",
    "print(\"E max = \", E_max)"
   ]
  },
  {
   "cell_type": "markdown",
   "metadata": {},
   "source": [
    "### шаг 3: найду Emin через w\n",
    "\n",
    "$E_{max} = -1 + 2^{\\omega - 1}$\n",
    "\n",
    "$E_{min} = -2^{\\omega - 1} + 2$"
   ]
  },
  {
   "cell_type": "code",
   "execution_count": 32,
   "metadata": {},
   "outputs": [
    {
     "name": "stdout",
     "output_type": "stream",
     "text": [
      "w = 8\n",
      "E min = -126\n"
     ]
    }
   ],
   "source": [
    "w = math.log(E_max+1, 2) + 1\n",
    "E_min = -1 * 2**(w - 1) + 2\n",
    "\n",
    "print(\"w =\", int(w))\n",
    "print(\"E min =\", int(E_min))"
   ]
  },
  {
   "cell_type": "markdown",
   "metadata": {},
   "source": [
    "### Результаты\n",
    "\n",
    "число битов на дробную часть мантиссы $n = 52$  *совпало с методичкой, не совпало с sys.float_info*\n",
    "\n",
    "машинная $\\epsilon = 2.220446049250313e-16$  *совпало с методичкой, совпало с sys.float_info*\n",
    "\n",
    "число битов на показатель степени 2 $\\omega = 11$  *совпало со здравым смыслом: 64 - 52 мантисса - 1 на знак = 11*\n",
    "\n",
    "максимальная степень $E_{max} = 1023$ *не совпало с sys.float_info*\n",
    "\n",
    "минимальная степень $E_{min} = -1022$  *не совпало с sys.float_info*"
   ]
  },
  {
   "cell_type": "markdown",
   "metadata": {},
   "source": [
    "### Сравнение чисел"
   ]
  },
  {
   "cell_type": "code",
   "execution_count": 53,
   "metadata": {},
   "outputs": [
    {
     "name": "stdout",
     "output_type": "stream",
     "text": [
      "False\n",
      "True\n",
      "True\n"
     ]
    }
   ],
   "source": [
    "print(1 < 1 + epsilon/2)\n",
    "print(1 + epsilon/2 < 1 + epsilon)\n",
    "print(1 + epsilon < 1 + epsilon + epsilon/2)"
   ]
  },
  {
   "cell_type": "markdown",
   "metadata": {},
   "source": [
    "$1 = 1 + ε/2 < 1 + ε < 1 + ε + ε/2$"
   ]
  },
  {
   "cell_type": "code",
   "execution_count": 41,
   "metadata": {},
   "outputs": [
    {
     "data": {
      "text/plain": [
       "52"
      ]
     },
     "execution_count": 41,
     "metadata": {},
     "output_type": "execute_result"
    }
   ],
   "source": [
    "np.finfo(np.float64).nmant"
   ]
  },
  {
   "cell_type": "code",
   "execution_count": 35,
   "metadata": {},
   "outputs": [
    {
     "data": {
      "text/plain": [
       "['__class__',\n",
       " '__delattr__',\n",
       " '__dict__',\n",
       " '__dir__',\n",
       " '__doc__',\n",
       " '__eq__',\n",
       " '__format__',\n",
       " '__ge__',\n",
       " '__getattribute__',\n",
       " '__gt__',\n",
       " '__hash__',\n",
       " '__init__',\n",
       " '__init_subclass__',\n",
       " '__le__',\n",
       " '__lt__',\n",
       " '__module__',\n",
       " '__ne__',\n",
       " '__new__',\n",
       " '__reduce__',\n",
       " '__reduce_ex__',\n",
       " '__repr__',\n",
       " '__setattr__',\n",
       " '__sizeof__',\n",
       " '__str__',\n",
       " '__subclasshook__',\n",
       " '__weakref__',\n",
       " '_finfo_cache',\n",
       " '_init',\n",
       " '_str_eps',\n",
       " '_str_epsneg',\n",
       " '_str_max',\n",
       " '_str_resolution',\n",
       " '_str_tiny',\n",
       " 'bits',\n",
       " 'dtype',\n",
       " 'eps',\n",
       " 'epsneg',\n",
       " 'iexp',\n",
       " 'machar',\n",
       " 'machep',\n",
       " 'max',\n",
       " 'maxexp',\n",
       " 'min',\n",
       " 'minexp',\n",
       " 'negep',\n",
       " 'nexp',\n",
       " 'nmant',\n",
       " 'precision',\n",
       " 'resolution',\n",
       " 'tiny']"
      ]
     },
     "execution_count": 35,
     "metadata": {},
     "output_type": "execute_result"
    }
   ],
   "source": [
    "dir(np.finfo(np.float32))"
   ]
  },
  {
   "cell_type": "code",
   "execution_count": null,
   "metadata": {},
   "outputs": [],
   "source": []
  }
 ],
 "metadata": {
  "kernelspec": {
   "display_name": "Python 3",
   "language": "python",
   "name": "python3"
  },
  "language_info": {
   "codemirror_mode": {
    "name": "ipython",
    "version": 3
   },
   "file_extension": ".py",
   "mimetype": "text/x-python",
   "name": "python",
   "nbconvert_exporter": "python",
   "pygments_lexer": "ipython3",
   "version": "3.8.2"
  }
 },
 "nbformat": 4,
 "nbformat_minor": 4
}
